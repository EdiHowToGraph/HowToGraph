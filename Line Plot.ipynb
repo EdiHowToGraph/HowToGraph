{
 "cells": [
  {
   "cell_type": "markdown",
   "id": "broke-ordering",
   "metadata": {},
   "source": [
    "# Task 1: Plot the stock price of Greggs over time\n",
    "- You should use the dataset provided in data/Greggs.csv"
   ]
  },
  {
   "cell_type": "code",
   "execution_count": 1,
   "id": "representative-fraction",
   "metadata": {},
   "outputs": [],
   "source": [
    "#Import the required packages\n",
    "import numpy as np\n",
    "import matplotlib.pyplot as plt\n",
    "import pandas as pd"
   ]
  },
  {
   "cell_type": "code",
   "execution_count": 2,
   "id": "nuclear-closure",
   "metadata": {},
   "outputs": [
    {
     "data": {
      "text/html": [
       "<div>\n",
       "<style scoped>\n",
       "    .dataframe tbody tr th:only-of-type {\n",
       "        vertical-align: middle;\n",
       "    }\n",
       "\n",
       "    .dataframe tbody tr th {\n",
       "        vertical-align: top;\n",
       "    }\n",
       "\n",
       "    .dataframe thead th {\n",
       "        text-align: right;\n",
       "    }\n",
       "</style>\n",
       "<table border=\"1\" class=\"dataframe\">\n",
       "  <thead>\n",
       "    <tr style=\"text-align: right;\">\n",
       "      <th></th>\n",
       "      <th>Date</th>\n",
       "      <th>Close</th>\n",
       "    </tr>\n",
       "  </thead>\n",
       "  <tbody>\n",
       "    <tr>\n",
       "      <th>0</th>\n",
       "      <td>2011</td>\n",
       "      <td>506.0</td>\n",
       "    </tr>\n",
       "    <tr>\n",
       "      <th>1</th>\n",
       "      <td>2012</td>\n",
       "      <td>454.0</td>\n",
       "    </tr>\n",
       "    <tr>\n",
       "      <th>2</th>\n",
       "      <td>2013</td>\n",
       "      <td>430.5</td>\n",
       "    </tr>\n",
       "    <tr>\n",
       "      <th>3</th>\n",
       "      <td>2014</td>\n",
       "      <td>732.0</td>\n",
       "    </tr>\n",
       "    <tr>\n",
       "      <th>4</th>\n",
       "      <td>2015</td>\n",
       "      <td>1314.0</td>\n",
       "    </tr>\n",
       "    <tr>\n",
       "      <th>5</th>\n",
       "      <td>2016</td>\n",
       "      <td>970.0</td>\n",
       "    </tr>\n",
       "    <tr>\n",
       "      <th>6</th>\n",
       "      <td>2017</td>\n",
       "      <td>1399.0</td>\n",
       "    </tr>\n",
       "    <tr>\n",
       "      <th>7</th>\n",
       "      <td>2018</td>\n",
       "      <td>1266.0</td>\n",
       "    </tr>\n",
       "    <tr>\n",
       "      <th>8</th>\n",
       "      <td>2019</td>\n",
       "      <td>2298.0</td>\n",
       "    </tr>\n",
       "    <tr>\n",
       "      <th>9</th>\n",
       "      <td>2020</td>\n",
       "      <td>1790.0</td>\n",
       "    </tr>\n",
       "  </tbody>\n",
       "</table>\n",
       "</div>"
      ],
      "text/plain": [
       "   Date   Close\n",
       "0  2011   506.0\n",
       "1  2012   454.0\n",
       "2  2013   430.5\n",
       "3  2014   732.0\n",
       "4  2015  1314.0\n",
       "5  2016   970.0\n",
       "6  2017  1399.0\n",
       "7  2018  1266.0\n",
       "8  2019  2298.0\n",
       "9  2020  1790.0"
      ]
     },
     "execution_count": 2,
     "metadata": {},
     "output_type": "execute_result"
    }
   ],
   "source": [
    "#Begin by loading the raw data into a dataframe\n",
    "raw_data = pd.read_csv(\"data/Greggs.csv\")\n",
    "\n",
    "#Let's take a look (if you just put a variable name at the end of a cell, it'll show the value of that variable.)\n",
    "raw_data"
   ]
  },
  {
   "cell_type": "markdown",
   "id": "collaborative-impression",
   "metadata": {},
   "source": [
    "Gorgeous! Now, we're going to plot this using PyPlot, a library that makes making neat and precise graphs easy. We start by defining variables for each axis."
   ]
  },
  {
   "cell_type": "code",
   "execution_count": 3,
   "id": "modular-jones",
   "metadata": {},
   "outputs": [
    {
     "data": {
      "text/plain": [
       "[506.0, 454.0, 430.5, 732.0, 1314.0, 970.0, 1399.0, 1266.0, 2298.0, 1790.0]"
      ]
     },
     "execution_count": 3,
     "metadata": {},
     "output_type": "execute_result"
    }
   ],
   "source": [
    "x = raw_data[\"Date\"].tolist()\n",
    "# This takes the information from the column (Date) and stores it as a variable called x\n",
    "\n",
    "y = raw_data[\"Close\"].tolist()\n",
    "#And this does the same for the closing price.\n",
    "y"
   ]
  },
  {
   "cell_type": "markdown",
   "id": "iraqi-johns",
   "metadata": {},
   "source": [
    "For your own graphs, make sure you check for case sensitivity! The expression raw_data[\"close\"] threw a very angry error at me.\n",
    "\n",
    "Next, we'll throw these up on a graph. It can be done in one command."
   ]
  },
  {
   "cell_type": "code",
   "execution_count": 4,
   "id": "lonely-plate",
   "metadata": {},
   "outputs": [
    {
     "data": {
      "image/png": "[encoded data removed]",
      "text/plain": [
       "<Figure size 432x288 with 1 Axes>"
      ]
     },
     "metadata": {
      "needs_background": "light"
     },
     "output_type": "display_data"
    }
   ],
   "source": [
    "plt.plot(x, y, label=\"Greggs\")\n",
    "plt.show()"
   ]
  },
  {
   "cell_type": "markdown",
   "id": "other-capital",
   "metadata": {},
   "source": [
    "And there you have your plot! Now, my biology teacher from high school would've gone red in the face if I showed him this graph, so let's do him a favor and add in the things that make teachers happy:"
   ]
  },
  {
   "cell_type": "code",
   "execution_count": 5,
   "id": "spread-hampshire",
   "metadata": {},
   "outputs": [
    {
     "data": {
      "image/png": "[encoded data removed]",
      "text/plain": [
       "<Figure size 432x288 with 1 Axes>"
      ]
     },
     "metadata": {
      "needs_background": "light"
     },
     "output_type": "display_data"
    }
   ],
   "source": [
    "plt.plot(x, y, label=\"Greggs\")\n",
    "plt.title(\"Greggs Stock Price by Year\")\n",
    "plt.xlabel(\"Year\")\n",
    "plt.ylabel(\"Stock Price in USD\")\n",
    "plt.show()"
   ]
  },
  {
   "cell_type": "markdown",
   "id": "advised-provincial",
   "metadata": {},
   "source": [
    "And Bob's your Uncle! There are loads of ways to beef up this graph, but this is a great start."
   ]
  },
  {
   "cell_type": "code",
   "execution_count": null,
   "id": "angry-administrator",
   "metadata": {},
   "outputs": [],
   "source": []
  }
 ],
 "metadata": {
  "kernelspec": {
   "display_name": "Python 3",
   "language": "python",
   "name": "python3"
  },
  "language_info": {
   "codemirror_mode": {
    "name": "ipython",
    "version": 3
   },
   "file_extension": ".py",
   "mimetype": "text/x-python",
   "name": "python",
   "nbconvert_exporter": "python",
   "pygments_lexer": "ipython3",
   "version": "3.8.6"
  }
 },
 "nbformat": 4,
 "nbformat_minor": 5
}
