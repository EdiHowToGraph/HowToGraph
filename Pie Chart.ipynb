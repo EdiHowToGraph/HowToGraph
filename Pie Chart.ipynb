{
 "cells": [
  {
   "cell_type": "markdown",
   "id": "remarkable-palestinian",
   "metadata": {},
   "source": [
    "# Task 2: Show the share of each party in Scottish Parliament as a Pie Chart\n",
    "\n",
    "- You should use the dataset provided in data/Parliament.csv\n",
    "- The dataset will show the party of each MSP, not the total count of each party. You'll have to calculate that yourself\n",
    "- Make sure each bar and both axes are properly labeled, and the values sum to 100%."
   ]
  },
  {
   "cell_type": "code",
   "execution_count": 2,
   "id": "alive-dating",
   "metadata": {},
   "outputs": [],
   "source": [
    "#Import the required packages\n",
    "import numpy as np\n",
    "import matplotlib.pyplot as plt\n",
    "import pandas as pd\n"
   ]
  },
  {
   "cell_type": "code",
   "execution_count": 3,
   "id": "romance-insurance",
   "metadata": {},
   "outputs": [
    {
     "data": {
      "text/html": [
       "<div>\n",
       "<style scoped>\n",
       "    .dataframe tbody tr th:only-of-type {\n",
       "        vertical-align: middle;\n",
       "    }\n",
       "\n",
       "    .dataframe tbody tr th {\n",
       "        vertical-align: top;\n",
       "    }\n",
       "\n",
       "    .dataframe thead th {\n",
       "        text-align: right;\n",
       "    }\n",
       "</style>\n",
       "<table border=\"1\" class=\"dataframe\">\n",
       "  <thead>\n",
       "    <tr style=\"text-align: right;\">\n",
       "      <th></th>\n",
       "      <th>Person ID</th>\n",
       "      <th>First name</th>\n",
       "      <th>Last name</th>\n",
       "      <th>Party</th>\n",
       "      <th>Constituency</th>\n",
       "      <th>URI</th>\n",
       "    </tr>\n",
       "  </thead>\n",
       "  <tbody>\n",
       "    <tr>\n",
       "      <th>0</th>\n",
       "      <td>10001</td>\n",
       "      <td>Diane</td>\n",
       "      <td>Abbott</td>\n",
       "      <td>Labour</td>\n",
       "      <td>Hackney North and Stoke Newington</td>\n",
       "      <td>https://www.theyworkforyou.com/mp/10001/diane_...</td>\n",
       "    </tr>\n",
       "    <tr>\n",
       "      <th>1</th>\n",
       "      <td>25034</td>\n",
       "      <td>Debbie</td>\n",
       "      <td>Abrahams</td>\n",
       "      <td>Labour</td>\n",
       "      <td>Oldham East and Saddleworth</td>\n",
       "      <td>https://www.theyworkforyou.com/mp/25034/debbie...</td>\n",
       "    </tr>\n",
       "    <tr>\n",
       "      <th>2</th>\n",
       "      <td>24878</td>\n",
       "      <td>Nigel</td>\n",
       "      <td>Adams</td>\n",
       "      <td>Conservative</td>\n",
       "      <td>Selby and Ainsty</td>\n",
       "      <td>https://www.theyworkforyou.com/mp/24878/nigel_...</td>\n",
       "    </tr>\n",
       "    <tr>\n",
       "      <th>3</th>\n",
       "      <td>25661</td>\n",
       "      <td>Bim</td>\n",
       "      <td>Afolami</td>\n",
       "      <td>Conservative</td>\n",
       "      <td>Hitchin and Harpenden</td>\n",
       "      <td>https://www.theyworkforyou.com/mp/25661/bim_af...</td>\n",
       "    </tr>\n",
       "    <tr>\n",
       "      <th>4</th>\n",
       "      <td>11929</td>\n",
       "      <td>Adam</td>\n",
       "      <td>Afriyie</td>\n",
       "      <td>Conservative</td>\n",
       "      <td>Windsor</td>\n",
       "      <td>https://www.theyworkforyou.com/mp/11929/adam_a...</td>\n",
       "    </tr>\n",
       "    <tr>\n",
       "      <th>...</th>\n",
       "      <td>...</td>\n",
       "      <td>...</td>\n",
       "      <td>...</td>\n",
       "      <td>...</td>\n",
       "      <td>...</td>\n",
       "      <td>...</td>\n",
       "    </tr>\n",
       "    <tr>\n",
       "      <th>645</th>\n",
       "      <td>11791</td>\n",
       "      <td>Jeremy</td>\n",
       "      <td>Wright</td>\n",
       "      <td>Conservative</td>\n",
       "      <td>Kenilworth and Southam</td>\n",
       "      <td>https://www.theyworkforyou.com/mp/11791/jeremy...</td>\n",
       "    </tr>\n",
       "    <tr>\n",
       "      <th>646</th>\n",
       "      <td>25649</td>\n",
       "      <td>Mohammad</td>\n",
       "      <td>Yasin</td>\n",
       "      <td>Labour</td>\n",
       "      <td>Bedford</td>\n",
       "      <td>https://www.theyworkforyou.com/mp/25649/mohamm...</td>\n",
       "    </tr>\n",
       "    <tr>\n",
       "      <th>647</th>\n",
       "      <td>25806</td>\n",
       "      <td>Jacob</td>\n",
       "      <td>Young</td>\n",
       "      <td>Conservative</td>\n",
       "      <td>Redcar</td>\n",
       "      <td>https://www.theyworkforyou.com/mp/25806/jacob_...</td>\n",
       "    </tr>\n",
       "    <tr>\n",
       "      <th>648</th>\n",
       "      <td>24822</td>\n",
       "      <td>Nadhim</td>\n",
       "      <td>Zahawi</td>\n",
       "      <td>Conservative</td>\n",
       "      <td>Stratford-on-Avon</td>\n",
       "      <td>https://www.theyworkforyou.com/mp/24822/nadhim...</td>\n",
       "    </tr>\n",
       "    <tr>\n",
       "      <th>649</th>\n",
       "      <td>25386</td>\n",
       "      <td>Daniel</td>\n",
       "      <td>Zeichner</td>\n",
       "      <td>Labour</td>\n",
       "      <td>Cambridge</td>\n",
       "      <td>https://www.theyworkforyou.com/mp/25386/daniel...</td>\n",
       "    </tr>\n",
       "  </tbody>\n",
       "</table>\n",
       "<p>650 rows × 6 columns</p>\n",
       "</div>"
      ],
      "text/plain": [
       "     Person ID First name Last name         Party  \\\n",
       "0        10001      Diane    Abbott        Labour   \n",
       "1        25034     Debbie  Abrahams        Labour   \n",
       "2        24878      Nigel     Adams  Conservative   \n",
       "3        25661        Bim   Afolami  Conservative   \n",
       "4        11929       Adam   Afriyie  Conservative   \n",
       "..         ...        ...       ...           ...   \n",
       "645      11791     Jeremy    Wright  Conservative   \n",
       "646      25649   Mohammad     Yasin        Labour   \n",
       "647      25806      Jacob     Young  Conservative   \n",
       "648      24822     Nadhim    Zahawi  Conservative   \n",
       "649      25386     Daniel  Zeichner        Labour   \n",
       "\n",
       "                          Constituency  \\\n",
       "0    Hackney North and Stoke Newington   \n",
       "1          Oldham East and Saddleworth   \n",
       "2                     Selby and Ainsty   \n",
       "3                Hitchin and Harpenden   \n",
       "4                              Windsor   \n",
       "..                                 ...   \n",
       "645             Kenilworth and Southam   \n",
       "646                            Bedford   \n",
       "647                             Redcar   \n",
       "648                  Stratford-on-Avon   \n",
       "649                          Cambridge   \n",
       "\n",
       "                                                   URI  \n",
       "0    https://www.theyworkforyou.com/mp/10001/diane_...  \n",
       "1    https://www.theyworkforyou.com/mp/25034/debbie...  \n",
       "2    https://www.theyworkforyou.com/mp/24878/nigel_...  \n",
       "3    https://www.theyworkforyou.com/mp/25661/bim_af...  \n",
       "4    https://www.theyworkforyou.com/mp/11929/adam_a...  \n",
       "..                                                 ...  \n",
       "645  https://www.theyworkforyou.com/mp/11791/jeremy...  \n",
       "646  https://www.theyworkforyou.com/mp/25649/mohamm...  \n",
       "647  https://www.theyworkforyou.com/mp/25806/jacob_...  \n",
       "648  https://www.theyworkforyou.com/mp/24822/nadhim...  \n",
       "649  https://www.theyworkforyou.com/mp/25386/daniel...  \n",
       "\n",
       "[650 rows x 6 columns]"
      ]
     },
     "execution_count": 3,
     "metadata": {},
     "output_type": "execute_result"
    }
   ],
   "source": [
    "#Begin by loading the raw data into a dataframe\n",
    "raw_data = pd.read_csv(\"data/Parliament.csv\")\n",
    "\n",
    "#Let's take a look\n",
    "raw_data"
   ]
  },
  {
   "cell_type": "markdown",
   "id": "sunrise-director",
   "metadata": {},
   "source": [
    "Right, that's a lot of information. We don't need most of it for our tasks. Let's start by pulling out the part we need."
   ]
  },
  {
   "cell_type": "code",
   "execution_count": 4,
   "id": "suburban-casino",
   "metadata": {},
   "outputs": [
    {
     "data": {
      "text/plain": [
       "0            Labour\n",
       "1            Labour\n",
       "2      Conservative\n",
       "3      Conservative\n",
       "4      Conservative\n",
       "           ...     \n",
       "645    Conservative\n",
       "646          Labour\n",
       "647    Conservative\n",
       "648    Conservative\n",
       "649          Labour\n",
       "Name: Party, Length: 650, dtype: object"
      ]
     },
     "execution_count": 4,
     "metadata": {},
     "output_type": "execute_result"
    }
   ],
   "source": [
    "parties = raw_data[\"Party\"]\n",
    "parties"
   ]
  },
  {
   "cell_type": "markdown",
   "id": "tender-centre",
   "metadata": {},
   "source": [
    "Great, and we can see it's the right length (650) to boot. Now we need to count these up. You could do it manually, but 650 is a lot of MSP's, and it'd be much easier to do it with a bit of code. I don't remember the name of the function, so I'm going to Google for \"count frequency pandas\". Remember, pandas is the library that handles these 'dataframes', the tables that hold the data.\n",
    "\n",
    "The first result is [this article](https://stackoverflow.com/questions/36004976/count-frequency-of-values-in-pandas-dataframe-column). The answer says to use value_counts(), so that's what we'll do. "
   ]
  },
  {
   "cell_type": "code",
   "execution_count": 5,
   "id": "governmental-mixer",
   "metadata": {},
   "outputs": [
    {
     "data": {
      "text/plain": [
       "{'Conservative': 364,\n",
       " 'Labour': 176,\n",
       " 'Scottish National Party': 47,\n",
       " 'Labour/Co-operative': 24,\n",
       " 'Liberal Democrat': 11,\n",
       " 'DUP': 8,\n",
       " 'Sinn Féin': 7,\n",
       " 'Independent': 5,\n",
       " 'Plaid Cymru': 3,\n",
       " 'Social Democratic and Labour Party': 2,\n",
       " 'Green': 1,\n",
       " 'Alliance': 1,\n",
       " 'Speaker': 1}"
      ]
     },
     "execution_count": 5,
     "metadata": {},
     "output_type": "execute_result"
    }
   ],
   "source": [
    "party_counts = parties.value_counts().to_dict()\n",
    "party_counts"
   ]
  },
  {
   "cell_type": "markdown",
   "id": "confidential-macintosh",
   "metadata": {},
   "source": [
    "Great! That \"to_dict()\" bit turned our data into a dictionary, which in Python means a bunch of pairs of variables. The first half of each pair is called the \"key\" and the second half is called the \"value\"."
   ]
  },
  {
   "cell_type": "code",
   "execution_count": 40,
   "id": "running-jacob",
   "metadata": {},
   "outputs": [
    {
     "data": {
      "text/plain": [
       "[364, 176, 47, 24, 11, 8, 7, 5, 3, 2, 1, 1, 1]"
      ]
     },
     "execution_count": 40,
     "metadata": {},
     "output_type": "execute_result"
    }
   ],
   "source": [
    "x = list(party_counts.keys())\n",
    "y = list(party_counts.values())\n",
    "y"
   ]
  },
  {
   "cell_type": "code",
   "execution_count": 41,
   "id": "popular-hungarian",
   "metadata": {},
   "outputs": [
    {
     "data": {
      "image/png": "[encoded data removed]",
      "text/plain": [
       "<Figure size 432x288 with 1 Axes>"
      ]
     },
     "metadata": {},
     "output_type": "display_data"
    }
   ],
   "source": [
    "#Plot this bad boy\n",
    "plt.pie(y, labels=x)\n",
    "plt.show()"
   ]
  },
  {
   "cell_type": "markdown",
   "id": "environmental-weekend",
   "metadata": {},
   "source": [
    "Alright, well that's... something. It looks like the right sizes for the slices, but the labels are all stacked on top of each other. PyPlot is really simple and powerful, but it's not too smart.\n",
    "\n",
    "Let's go back to Google. Since we have a lot of smaller categories, using an 'Other' category makes sense. Searching for 'matplolib pie chart other' brings up [this article](https://stackoverflow.com/questions/48587997/matplotlib-pie-graph-with-all-other-categories/48589225). They use a DataFrame instead of lists, but we can amend their code and go from there."
   ]
  },
  {
   "cell_type": "code",
   "execution_count": 45,
   "id": "electoral-destination",
   "metadata": {},
   "outputs": [
    {
     "name": "stdout",
     "output_type": "stream",
     "text": [
      "[364 176  47  24  39]\n",
      "['Conservative' 'Labour' 'Scottish National Party' 'Labour/Co-operative'\n",
      " 'Other']\n"
     ]
    },
    {
     "data": {
      "image/png": "[encoded data removed]",
      "text/plain": [
       "<Figure size 432x288 with 1 Axes>"
      ]
     },
     "metadata": {},
     "output_type": "display_data"
    }
   ],
   "source": [
    "\n",
    "y = np.append(y[:4], np.sum(y[4:]))\n",
    "x = np.append(x[:4], \"Other\")\n",
    "print(y)\n",
    "print(x)\n",
    "\n",
    "plt.pie(y, labels=x)\n",
    "plt.title(\"Share of Scottish Parliament by party\")\n",
    "plt.show()"
   ]
  },
  {
   "cell_type": "markdown",
   "id": "prescription-necessity",
   "metadata": {},
   "source": [
    "Looks great! Keep in mind you can write those first two lines in many more. If you're only using this code for the purposes of producing a graph, it doesn't need to be pretty or concise, it just needs to make the graph you want.\n",
    "\n",
    "One last thing: Let's convert those seat counts to percentages, and show them in the slices. [This article](https://www.askpython.com/python/plot-customize-pie-chart-in-python) has lots of useful ideas, but it shows we can use 'autopct' as an argument when we call plt.pie() to automatically calculate the percentages."
   ]
  },
  {
   "cell_type": "code",
   "execution_count": 47,
   "id": "turned-revolution",
   "metadata": {},
   "outputs": [
    {
     "data": {
      "image/png": "[encoded data removed]",
      "text/plain": [
       "<Figure size 432x288 with 1 Axes>"
      ]
     },
     "metadata": {},
     "output_type": "display_data"
    }
   ],
   "source": [
    "plt.pie(y, labels=x, autopct='%1.1f%%')\n",
    "plt.title(\"Share of Scottish Parliament by party\")\n",
    "plt.show()"
   ]
  },
  {
   "cell_type": "markdown",
   "id": "legislative-honor",
   "metadata": {},
   "source": [
    "There you have it! "
   ]
  },
  {
   "cell_type": "code",
   "execution_count": null,
   "id": "surgical-mixture",
   "metadata": {},
   "outputs": [],
   "source": []
  }
 ],
 "metadata": {
  "kernelspec": {
   "display_name": "Python 3",
   "language": "python",
   "name": "python3"
  },
  "language_info": {
   "codemirror_mode": {
    "name": "ipython",
    "version": 3
   },
   "file_extension": ".py",
   "mimetype": "text/x-python",
   "name": "python",
   "nbconvert_exporter": "python",
   "pygments_lexer": "ipython3",
   "version": "3.8.6"
  }
 },
 "nbformat": 4,
 "nbformat_minor": 5
}
