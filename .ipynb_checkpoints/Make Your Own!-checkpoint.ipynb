{
 "cells": [
  {
   "cell_type": "markdown",
   "id": "convenient-knight",
   "metadata": {},
   "source": [
    "# Making Your Own Graphs from Scratch\n",
    "Here we'll give you all the resources you need to make your own graphs or templates.\n",
    "\n",
    "## Step One: Import The Packages\n",
    "These lines will import the various tools used to work with data and draw your graphs. You don't need them all for every project, but efficiency isn't your top priority here."
   ]
  },
  {
   "cell_type": "code",
   "execution_count": 1,
   "id": "binary-graham",
   "metadata": {},
   "outputs": [],
   "source": [
    "import numpy as np\n",
    "import matplotlib.pyplot as plt\n",
    "import pandas as pd"
   ]
  },
  {
   "cell_type": "markdown",
   "id": "russian-insulin",
   "metadata": {},
   "source": [
    "## Step Two: Get Some Data\n",
    "We'll show a few different ways to load data, from enterring it manually to downloading it from the web."
   ]
  },
  {
   "cell_type": "code",
   "execution_count": 19,
   "id": "recognized-ceiling",
   "metadata": {},
   "outputs": [],
   "source": [
    "# Easiest thing to do is just enter it manually, and the most intuitive way is to use a list\n",
    "heights = [172, 164, 125, 156, 125, 163, 163, 123, 174, 190]\n",
    "names = [\"Ada\", \"Bob\", \"Carl\", \"Dani\", \"Efe\", \"Freja\", \"Gregg\", \"Hank\", \"Ida\", \"Jodi\"]\n",
    "\n",
    "# Notice we put quotes (single or double) around words (strings), but not around numbers. \n",
    "# Also notice we have the same number of names and heights- that's important!\n",
    "\n",
    "# We can also load data from a file, using pandas (pd):\n",
    "raw_data = pd.read_csv(\"data/example.csv\")\n",
    "#Notice we put the path to the file relative to this one. This loads the data as a DataFrame, which is like a fancy table.\n",
    "\n",
    "# We can also load data from a website, using the same method. This will download some data about cereal\n",
    "vaccine_data = pd.read_csv(\"https://perso.telecom-paristech.fr/eagan/class/igr204/data/cereal.csv\", sep=\";\")\n",
    "#     Notice we added a 'sep' argument, meaning separator. Despite being called Comma Separated Value files,\n",
    "# some .csv files use a different separator, like a semicolon or | symbol. To fix that, we use the 'sep' argument."
   ]
  },
  {
   "cell_type": "markdown",
   "id": "governing-dryer",
   "metadata": {},
   "source": [
    "## Step Three: Getting the Data We Want\n",
    "From here on out we'll be working mostly with the raw_data dataset. We can select individual columns, count the frequency of values in those columns, sort, and much more."
   ]
  },
  {
   "cell_type": "code",
   "execution_count": 20,
   "id": "quarterly-railway",
   "metadata": {},
   "outputs": [
    {
     "data": {
      "text/plain": [
       "['Ada', 'Bob', 'Carl', 'Dani', 'Efe', 'Freja', 'Gregg', 'Hank', 'Ida', 'Jodi']"
      ]
     },
     "execution_count": 20,
     "metadata": {},
     "output_type": "execute_result"
    }
   ],
   "source": [
    "names = raw_data[\"Name\"]\n",
    "heights = raw_data[\"Height\"]\n",
    "# When you pull a column out of a dataframe, it's in the form of a Series \n",
    "# (you can tell by the numbers on the side, or by using type())\n",
    "type(names)\n",
    "\n",
    "# If we want to change that, we can use .to_list()\n",
    "names_list = names.to_list()\n",
    "names_list"
   ]
  },
  {
   "cell_type": "code",
   "execution_count": 21,
   "id": "personalized-moore",
   "metadata": {},
   "outputs": [
    {
     "data": {
      "text/html": [
       "<div>\n",
       "<style scoped>\n",
       "    .dataframe tbody tr th:only-of-type {\n",
       "        vertical-align: middle;\n",
       "    }\n",
       "\n",
       "    .dataframe tbody tr th {\n",
       "        vertical-align: top;\n",
       "    }\n",
       "\n",
       "    .dataframe thead th {\n",
       "        text-align: right;\n",
       "    }\n",
       "</style>\n",
       "<table border=\"1\" class=\"dataframe\">\n",
       "  <thead>\n",
       "    <tr style=\"text-align: right;\">\n",
       "      <th></th>\n",
       "      <th>Name</th>\n",
       "      <th>Height</th>\n",
       "      <th>Age</th>\n",
       "      <th>Favorite Color</th>\n",
       "    </tr>\n",
       "  </thead>\n",
       "  <tbody>\n",
       "    <tr>\n",
       "      <th>7</th>\n",
       "      <td>Hank</td>\n",
       "      <td>123</td>\n",
       "      <td>18</td>\n",
       "      <td>Green</td>\n",
       "    </tr>\n",
       "    <tr>\n",
       "      <th>2</th>\n",
       "      <td>Carl</td>\n",
       "      <td>125</td>\n",
       "      <td>24</td>\n",
       "      <td>Green</td>\n",
       "    </tr>\n",
       "    <tr>\n",
       "      <th>4</th>\n",
       "      <td>Efe</td>\n",
       "      <td>125</td>\n",
       "      <td>16</td>\n",
       "      <td>Pink</td>\n",
       "    </tr>\n",
       "    <tr>\n",
       "      <th>3</th>\n",
       "      <td>Dani</td>\n",
       "      <td>156</td>\n",
       "      <td>21</td>\n",
       "      <td>Black</td>\n",
       "    </tr>\n",
       "    <tr>\n",
       "      <th>5</th>\n",
       "      <td>Freja</td>\n",
       "      <td>163</td>\n",
       "      <td>15</td>\n",
       "      <td>Orange</td>\n",
       "    </tr>\n",
       "    <tr>\n",
       "      <th>6</th>\n",
       "      <td>Gregg</td>\n",
       "      <td>163</td>\n",
       "      <td>17</td>\n",
       "      <td>Blue</td>\n",
       "    </tr>\n",
       "    <tr>\n",
       "      <th>1</th>\n",
       "      <td>Bob</td>\n",
       "      <td>164</td>\n",
       "      <td>17</td>\n",
       "      <td>Blue</td>\n",
       "    </tr>\n",
       "    <tr>\n",
       "      <th>0</th>\n",
       "      <td>Ada</td>\n",
       "      <td>172</td>\n",
       "      <td>16</td>\n",
       "      <td>Red</td>\n",
       "    </tr>\n",
       "    <tr>\n",
       "      <th>8</th>\n",
       "      <td>Ida</td>\n",
       "      <td>174</td>\n",
       "      <td>14</td>\n",
       "      <td>White</td>\n",
       "    </tr>\n",
       "    <tr>\n",
       "      <th>9</th>\n",
       "      <td>Jodi</td>\n",
       "      <td>190</td>\n",
       "      <td>22</td>\n",
       "      <td>Blue</td>\n",
       "    </tr>\n",
       "  </tbody>\n",
       "</table>\n",
       "</div>"
      ],
      "text/plain": [
       "    Name  Height  Age Favorite Color\n",
       "7   Hank     123   18          Green\n",
       "2   Carl     125   24          Green\n",
       "4    Efe     125   16           Pink\n",
       "3   Dani     156   21          Black\n",
       "5  Freja     163   15         Orange\n",
       "6  Gregg     163   17           Blue\n",
       "1    Bob     164   17           Blue\n",
       "0    Ada     172   16            Red\n",
       "8    Ida     174   14          White\n",
       "9   Jodi     190   22           Blue"
      ]
     },
     "execution_count": 21,
     "metadata": {},
     "output_type": "execute_result"
    }
   ],
   "source": [
    "# We can sort the whole table by height, or any other value if we want.\n",
    "raw_data.sort_values(\"Height\")\n",
    "sorted_data = raw_data.sort_values(\"Height\")\n",
    "sorted_data\n",
    "\n",
    "# Note that we need to set a variable equal to the sort, or we won't be able to access it. \n",
    "#     You can use the same raw_data variable, but it can get confusing"
   ]
  },
  {
   "cell_type": "code",
   "execution_count": 46,
   "id": "exterior-battle",
   "metadata": {},
   "outputs": [
    {
     "data": {
      "text/plain": [
       "[3, 2, 1, 1, 1, 1, 1]"
      ]
     },
     "execution_count": 46,
     "metadata": {},
     "output_type": "execute_result"
    }
   ],
   "source": [
    "# Let's say we wanted to poll the dataset to see what colors are most popular.\n",
    "color_popularity = sorted_data.value_counts(\"Favorite Color\")\n",
    "#We have a series again, but that left column is called the axes (plural of axis). \n",
    "#    Getting them in a useful form is tricky, but you can do it like this:\n",
    "colors = color_popularity.axes[0].tolist()\n",
    "\n",
    "#Getting the right column (the values) looks like this:\n",
    "color_counts = color_popularity.tolist()\n"
   ]
  },
  {
   "cell_type": "markdown",
   "id": "russian-inspection",
   "metadata": {},
   "source": [
    "## Step 4: Graph it!"
   ]
  },
  {
   "cell_type": "code",
   "execution_count": 61,
   "id": "grave-surveillance",
   "metadata": {},
   "outputs": [
    {
     "data": {
      "image/png": "[encoded data removed]",
      "text/plain": [
       "<Figure size 432x288 with 1 Axes>"
      ]
     },
     "metadata": {
      "needs_background": "light"
     },
     "output_type": "display_data"
    }
   ],
   "source": [
    "## Let's start with a simple bar chart, for heights. We'll use the original raw_data, which is sorted in alphabetical order\n",
    "\n",
    "#We start by getting our labels (the names) and their corresponding values (heights)\n",
    "labels = raw_data[\"Name\"]\n",
    "heights = raw_data[\"Height\"]\n",
    "\n",
    "# Then we need to make a range, so that PyPlot knows where to put the bars. \n",
    "#     It's got to be the same length as the other lists, so we'll use:\n",
    "x = range(len(labels))\n",
    "#x is just a range of integers from 0 to 9.\n",
    "\n",
    "\n",
    "# And now we can make the graph with a few lines!\n",
    "\n",
    "fig, ax = plt.subplots()\n",
    "#This breaks the plot into subplots. Fig is used to format the overall image, while ax is our graph. It's not always needed\n",
    "\n",
    "ax.bar(x, heights)\n",
    "#This plots the bars themselves. You'd use ax.plot() for line plots or ax.pie() for pie charts.\n",
    "\n",
    "ax.set_xticks(x)\n",
    "ax.set_xticklabels(labels)\n",
    "#These put a tick under each bar, then add the labels below them\n",
    "\n",
    "ax.set_title(\"Heights of Our Class\")\n",
    "#Sets the title. If you're not using subplots, just \n",
    "\n",
    "# If you wanted to save it to a file, use the line below.\n",
    "# Note: Always do it in this order! Showing the plot clears it.\n",
    "plt.savefig(\"height_bar.png\")\n",
    "\n",
    "\n",
    "plt.show()\n",
    "#This displays the graph. "
   ]
  },
  {
   "cell_type": "markdown",
   "id": "curious-program",
   "metadata": {},
   "source": [
    "# Resources\n",
    "When I wrote this, I hadn't touched PyPlot in a few months and had completely forgotten how to do most of it. The best way to make sure you get this right quickly is to look at examples. I'll list a few resources below.\n",
    "- [The PyPlot website](https://matplotlib.org/stable/gallery/index.html) has some excellent examples that show the full power of PyPlot. Most are them are far more complicated than is necessary for anyone not writing a research paper, but you can pull out what you need and ignore the rest!\n",
    "- [Google Colab](https://colab.research.google.com/notebooks/charts.ipynb) has everything you need and more to make simple, easy graphs. If you're just looking to make graphs yourself, or if your students have Google Accounts, it's probably the only resource you'll need.\n",
    "- Google (I won't link to Google- you know how to find it) is your friend. Any problem you've encountered, someone else has had too. Copy in error messages, search for exactly what we need (\"Rotate tick labels pyplot\"), or just search for PyPlot tutorials.\n",
    "- If you can't find what you need, post on StackOverFlow. There are thousands of people using that site who would be happy to help you with your problem.\n",
    "- If any of this doesn't make sense, or you've found any issues with this notebook, don't hesitate to reach out to me at will.amorosana@gmail.com. "
   ]
  },
  {
   "cell_type": "markdown",
   "id": "thousand-sheffield",
   "metadata": {},
   "source": [
    "## Sources\n",
    "The data from the other three notebooks was sourced freely from websites, as listed below:\n",
    "- [http://www.hills-database.co.uk/downloads.html](http://www.hills-database.co.uk/downloads.html)\n",
    "\n",
    "- [https://corporate.greggs.co.uk/investors/share-price-information](https://corporate.greggs.co.uk/investors/share-price-information)\n",
    "\n",
    "- [https://www.theyworkforyou.com/mps/](https://www.theyworkforyou.com/mps/)"
   ]
  },
  {
   "cell_type": "code",
   "execution_count": null,
   "id": "beginning-generic",
   "metadata": {},
   "outputs": [],
   "source": []
  }
 ],
 "metadata": {
  "kernelspec": {
   "display_name": "Python 3",
   "language": "python",
   "name": "python3"
  },
  "language_info": {
   "codemirror_mode": {
    "name": "ipython",
    "version": 3
   },
   "file_extension": ".py",
   "mimetype": "text/x-python",
   "name": "python",
   "nbconvert_exporter": "python",
   "pygments_lexer": "ipython3",
   "version": "3.8.6"
  }
 },
 "nbformat": 4,
 "nbformat_minor": 5
}
